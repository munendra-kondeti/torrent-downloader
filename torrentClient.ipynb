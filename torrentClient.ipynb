{
  "nbformat": 4,
  "nbformat_minor": 0,
  "metadata": {
    "colab": {
      "provenance": [],
      "collapsed_sections": [
        "8HrHCcVaMI0o",
        "k9gr2ZsiMOrE",
        "XZQV5qTnJ0XQ",
        "MTE7GLGEMb9O",
        "_cRMxO7QCzdU",
        "kpC-T4YD-N5H",
        "5lWKQLkcNxc5"
      ],
      "authorship_tag": "ABX9TyMcGQu81qZKwoU837nm+xKS",
      "include_colab_link": true
    },
    "kernelspec": {
      "name": "python3",
      "display_name": "Python 3"
    },
    "language_info": {
      "name": "python"
    }
  },
  "cells": [
    {
      "cell_type": "markdown",
      "metadata": {
        "id": "view-in-github",
        "colab_type": "text"
      },
      "source": [
        "<a href=\"https://colab.research.google.com/github/munendra-kondeti/torrent-downloader/blob/main/torrentClient.ipynb\" target=\"_parent\"><img src=\"https://colab.research.google.com/assets/colab-badge.svg\" alt=\"Open In Colab\"/></a>"
      ]
    },
    {
      "cell_type": "markdown",
      "source": [
        "# Install requirements"
      ],
      "metadata": {
        "id": "8HrHCcVaMI0o"
      }
    },
    {
      "cell_type": "code",
      "execution_count": null,
      "metadata": {
        "id": "mxspjUGZaqXO"
      },
      "outputs": [],
      "source": [
        "!python -m pip install --upgrade pip setuptools wheel\n",
        "!python -m pip install lbry-libtorrent\n",
        "!apt install python3-libtorrent"
      ]
    },
    {
      "cell_type": "markdown",
      "source": [
        "#Import"
      ],
      "metadata": {
        "id": "k9gr2ZsiMOrE"
      }
    },
    {
      "cell_type": "code",
      "source": [
        "import libtorrent as lt\n",
        "import os\n",
        "import time"
      ],
      "metadata": {
        "id": "T4V4ESyHZJcO"
      },
      "execution_count": null,
      "outputs": []
    },
    {
      "cell_type": "markdown",
      "source": [
        "#Upload Torrent file into Colab"
      ],
      "metadata": {
        "id": "XZQV5qTnJ0XQ"
      }
    },
    {
      "cell_type": "code",
      "source": [
        "import os\n",
        "from google.colab import files\n",
        "\n",
        "# Create a new directory named 'temp_dir'\n",
        "os.mkdir('temp_dir')\n",
        "\n",
        "# Change the current working directory to 'temp_dir'\n",
        "os.chdir('temp_dir')\n",
        "\n",
        "# Upload files to the 'temp_dir' directory\n",
        "uploaded = files.upload()\n",
        "\n",
        "for fn in uploaded.keys():\n",
        " print('User uploaded file \"{name}\" with length {length} bytes'.format(\n",
        "    name=fn, length=len(uploaded[fn])))\n"
      ],
      "metadata": {
        "id": "lwYpj3Z-DjA0"
      },
      "execution_count": null,
      "outputs": []
    },
    {
      "cell_type": "code",
      "source": [
        "file = \"/content/temp_dir/sintel.torrent\""
      ],
      "metadata": {
        "id": "g3uZp5u3yCbv"
      },
      "execution_count": null,
      "outputs": []
    },
    {
      "cell_type": "markdown",
      "source": [
        "#Torrent magnet link set here"
      ],
      "metadata": {
        "id": "MTE7GLGEMb9O"
      }
    },
    {
      "cell_type": "code",
      "source": [
        "link = \"magnet:?xt=urn:btih:08ada5a7a6183aae1e09d831df6748d566095a10&dn=Sintel&tr=udp%3A%2F%2Fexplodie.org%3A6969&tr=udp%3A%2F%2Ftracker.coppersurfer.tk%3A6969&tr=udp%3A%2F%2Ftracker.empire-js.us%3A1337&tr=udp%3A%2F%2Ftracker.leechers-paradise.org%3A6969&tr=udp%3A%2F%2Ftracker.opentrackr.org%3A1337&tr=wss%3A%2F%2Ftracker.btorrent.xyz&tr=wss%3A%2F%2Ftracker.fastcast.nz&tr=wss%3A%2F%2Ftracker.openwebtorrent.com&ws=https%3A%2F%2Fwebtorrent.io%2Ftorrents%2F&xs=https%3A%2F%2Fwebtorrent.io%2Ftorrents%2Fsintel.torrent\""
      ],
      "metadata": {
        "id": "4ziHVrZXcnBa"
      },
      "execution_count": null,
      "outputs": []
    },
    {
      "cell_type": "markdown",
      "source": [
        "#1->Torrent session\n",
        "<p>create_session </p>\n",
        "<p>show_ports </p>\n",
        "<p>update_ports </p>"
      ],
      "metadata": {
        "id": "_cRMxO7QCzdU"
      }
    },
    {
      "cell_type": "code",
      "source": [
        "class TorrentSession:\n",
        "  ''' TorrentSession Handles all the session related'''\n",
        "\n",
        "  # listing ports range Default\n",
        "  PORTS = {\"start\": 6881, \"end\": 6891}\n",
        "\n",
        "  @staticmethod\n",
        "  def create_session():\n",
        "    '''create a session on PORTS = {\"start\": 6881, \"end\": 6891} '''\n",
        "    PORTS = TorrentSession.PORTS\n",
        "    print(\"Insiliziating Session\")\n",
        "    session = lt.session()\n",
        "    session.listen_on(PORTS.get(\"start\"), PORTS.get(\"end\"))\n",
        "    print(\"Session created and listing on ports => \", PORTS)\n",
        "    return session\n",
        "\n",
        "  @staticmethod\n",
        "  def show_ports():\n",
        "    '''Prints the port details. Change ports if need with\n",
        "    `TorrentSession.PORTS.update` '''\n",
        "    print(TorrentSession.PORTS)\n",
        "\n",
        "  @staticmethod\n",
        "  def update_ports(start : int , end : int) -> None:\n",
        "    TorrentSession.PORTS.update(start=start,end=end)\n",
        "    print(\"done\")\n"
      ],
      "metadata": {
        "id": "_chQwarsAVGJ"
      },
      "execution_count": null,
      "outputs": []
    },
    {
      "cell_type": "markdown",
      "source": [
        "<h2> For Testing </h2>"
      ],
      "metadata": {
        "id": "DOFK3jGEJJiJ"
      }
    },
    {
      "cell_type": "code",
      "source": [
        "# update ports\n",
        "# TorrentSession.update_ports(start=6882,end=6888)\n",
        "# Create a session\n",
        "# TorrentSession.create_session()\n",
        "# For checking ports\n",
        "# TorrentSession.show_ports()"
      ],
      "metadata": {
        "id": "EejZ71tRDJR6"
      },
      "execution_count": null,
      "outputs": []
    },
    {
      "cell_type": "markdown",
      "source": [
        "#Torrent file handler\n",
        "<h2>TorrentFile</h2>\n",
        "<p> is_torrent_file </p>\n",
        "<p> is_magnet_link </p>\n",
        "<p> file_size </p>"
      ],
      "metadata": {
        "id": "kpC-T4YD-N5H"
      }
    },
    {
      "cell_type": "code",
      "source": [
        "class TorrentFile:\n",
        "  '''It is the class that handles the `Torrent Files related`'''\n",
        "  def __init__(self) -> None:\n",
        "    pass\n",
        "\n",
        "  def is_torrent_file(self,file:str) -> bool:\n",
        "    '''Takes the file location as `InPut`.\n",
        "     Checks the file end with `Torrent` or not'''\n",
        "    return file.endswith('.torrent')\n",
        "\n",
        "  def is_magnet_link(self,link:str) -> bool:\n",
        "    '''Checks the link is it `Magnet` or not'''\n",
        "    return link.startswith('magnet:?')\n",
        "\n",
        "  def file_size(self,bytes) -> dict:\n",
        "    ''' Converts `bytes` to the respective `unites` Ex:-{byte,kb,mb,gb,tb}'''\n",
        "    byte = bytes\n",
        "    sizes = {\n",
        "        \"byte\":0,\n",
        "        \"kb\" : 0,\n",
        "        \"mb\" : 0,\n",
        "        \"gb\" : 0,\n",
        "        \"tb\" : 0\n",
        "    }\n",
        "    byte_fixed_size = 1000 # in general 1024 but in python 1000\n",
        "    kb = byte / byte_fixed_size\n",
        "    sizes.update(kb=kb)\n",
        "    sizes.update(byte=0)\n",
        "    if sizes.get('kb') >= byte_fixed_size:\n",
        "      mb = byte/(byte_fixed_size ** 2)\n",
        "      sizes.update(mb=mb)\n",
        "      sizes.update(kb=0)\n",
        "    if sizes.get('mb') >= byte_fixed_size:\n",
        "      gb = byte/(byte_fixed_size ** 3)\n",
        "      sizes.update(gb=gb)\n",
        "      sizes.update(mb=0)\n",
        "    if sizes.get('gb') >= byte_fixed_size:\n",
        "      tb = byte/(byte_fixed_size** 4)\n",
        "      sizes.update(tb=tb)\n",
        "      sizes.update(gb=0)\n",
        "\n",
        "    units = sizes\n",
        "    # Distinguish Valid unit\n",
        "    temp={}\n",
        "    for unit in units:\n",
        "      if units.get(unit) != 0 :\n",
        "        temp = {unit:units.get(unit)}\n",
        "    return temp\n",
        "\n"
      ],
      "metadata": {
        "id": "SXK8Ak3DxPef"
      },
      "execution_count": null,
      "outputs": []
    },
    {
      "cell_type": "markdown",
      "source": [
        "<h2>Testing </h2>"
      ],
      "metadata": {
        "id": "6JPIYwFZNG8y"
      }
    },
    {
      "cell_type": "code",
      "source": [
        "# tf = TorrentFile()\n",
        "# tf.is_magnet_link('magnet:?')\n",
        "# tf.is_torrent_file('.torrent')\n",
        "# tf.file_size(1025)"
      ],
      "metadata": {
        "id": "Fk0z1B-8MkeR"
      },
      "execution_count": null,
      "outputs": []
    },
    {
      "cell_type": "markdown",
      "source": [
        "#Download Class"
      ],
      "metadata": {
        "id": "5lWKQLkcNxc5"
      }
    },
    {
      "cell_type": "code",
      "source": [
        "class Download(TorrentFile):\n",
        "  '''It handles all the downloads related'''\n",
        "\n",
        "  def __init__(self,session:object, save_path = None) ->None:\n",
        "    '''Give the `session` as input `save_path` is default temp location'''\n",
        "    self.save_path = save_path if save_path is not None else (os.getcwd()+\"/temp/\")\n",
        "    self.session = session\n",
        "\n",
        "  def add_multiple(self,file_or_Link:str) :\n",
        "    '''Add the files or links to the on going list'''\n",
        "    self.file_or_Link=file_or_Link\n",
        "    self.downloads = []\n",
        "    if self.is_magnet_link(self.file_or_Link):\n",
        "      # if its a magnet link\n",
        "      parms = {\"save_path\": self.save_path}\n",
        "      torrent_handle = lt.add_magnet_uri(self.session,self.file_or_Link, parms)\n",
        "      self.downloads.append(torrent_handle)\n",
        "      print(\"added magnet link successfully\")\n",
        "      # else if torrent file\n",
        "    elif self.is_torrent_file(file_or_Link):\n",
        "      torrentFileInfo = lt.torrent_info(self.file_or_Link)\n",
        "      parms= {'ti': torrentFileInfo, 'save_path': self.save_path}\n",
        "      self.downloads.append(self.session.add_torrent(parms))\n",
        "      print(\"torrent added successfully\")\n",
        "      # else invalid file\n",
        "    else :\n",
        "      print(\"invalid file or link\")\n",
        "\n",
        "    return self\n",
        "\n",
        "  def add(self,file_or_Link) -> str :\n",
        "    '''Add the files or links to the on going list'''\n",
        "    self.file_or_Link=file_or_Link\n",
        "    if self.is_magnet_link(self.file_or_Link):\n",
        "      # if its a magnet link\n",
        "      parms = {\"save_path\": self.save_path}\n",
        "      self.torrent_link = lt.add_magnet_uri(self.session,self.file_or_Link, parms)\n",
        "      print(\"added magnet link successfully\")\n",
        "      # else if torrent file\n",
        "    elif self.is_torrent_file(file_or_Link):\n",
        "      torrentFileInfo = lt.torrent_info(self.file_or_Link)\n",
        "      parms= {'ti': torrentFileInfo, 'save_path': self.save_path}\n",
        "      self.torrent_link=self.session.add_torrent(parms)\n",
        "      print(\"torrent added successfully\")\n",
        "      # else invalid file\n",
        "    else :\n",
        "      print(\"invalid file or link\")\n",
        "    start = self.start\n",
        "    return self\n",
        "\n",
        "  def start(self,logs=False) -> bool :\n",
        "    try:\n",
        "      download = self.torrent_link\n",
        "      status_method = download.status\n",
        "      is_seed_method = download.is_seed\n",
        "      print(\"Saving downloads @ \",self.save_path\n",
        "            ,\"\\n starting download \")\n",
        "      while not is_seed_method():\n",
        "          status = status_method()\n",
        "          if status.num_peers < 1:\n",
        "              count = 0\n",
        "              while status.num_peers < 1:\n",
        "                  if count > 5:\n",
        "                      break\n",
        "                  time.sleep(1)\n",
        "                  count += 1\n",
        "\n",
        "          total_size = download.get_torrent_info().total_size()\n",
        "          remaining_bytes = status.total_wanted - status.total_wanted_done if total_size is not None else None\n",
        "          time.sleep(1)\n",
        "          if logs:\n",
        "            print(\"state: \", status.state,\n",
        "                  \"\\ntotal size: \",self.file_size(total_size),\n",
        "                  \"\\nRemaing bytes: \", self.file_size(remaining_bytes))\n",
        "\n",
        "      else:\n",
        "          print(\" Download done\")\n",
        "    except Exception as e:\n",
        "        print(f\"An error occurred: {e}\")\n",
        "    finally :\n",
        "      print(\"DONE\")\n",
        "      self.session.remove_torrent(download)\n",
        "\n",
        "\n",
        "  def start_multiple_downloads(self,logs=False):\n",
        "    print(\"Saving downloads @ \",self.save_path)\n",
        "    while self.downloads:\n",
        "      for download in self.downloads:\n",
        "        if not download.is_seed():\n",
        "          self.status = download.status()\n",
        "          if self.status.num_peers < 1:\n",
        "            count = 0\n",
        "            while self.status.num_peers < 1 :\n",
        "              time.sleep(1)\n",
        "              if count > 6 :\n",
        "                break\n",
        "              count+=1\n",
        "          torrent_info = download.get_torrent_info()\n",
        "          self.total_size = torrent_info.total_size()\n",
        "          self.remaining_bytes = self.status.total_wanted - self.status.total_wanted_done if torrent_info is not None else None\n",
        "\n",
        "          if logs:\n",
        "            print(\"Downloading \",download.name())\n",
        "            print(\"progress: %.2f%%\" % (self.status.progress * 100))\n",
        "            print(\"download rate: %.2f kB/s\" % (self.status.download_rate / 1000))\n",
        "            print(\"upload rate: %.2f kB/s\" % (self.status.upload_rate / 1000))\n",
        "            print(\"num peers: \", self.status.num_peers)\n",
        "            print(\"state: \", self.status.state)\n",
        "            print(\"total size: \",self.file_size(self.total_size))\n",
        "            print(\"Remaing size: \",self.file_size(self.remaining_bytes))\n",
        "          else:\n",
        "            print(\"download done\")\n",
        "        else:\n",
        "            print(\"Download Successful @\"+self.save_path +\" => \",download.name())\n",
        "            self.session.remove_torrent(download)\n",
        "            self.downloads.remove(download)\n",
        "\n",
        "    time.sleep(.5)\n"
      ],
      "metadata": {
        "id": "6gAUkF5BO0Lk"
      },
      "execution_count": null,
      "outputs": []
    },
    {
      "cell_type": "markdown",
      "source": [
        "  # Download Testing"
      ],
      "metadata": {
        "id": "9SEVG90Tiq0C"
      }
    },
    {
      "cell_type": "code",
      "source": [
        "ts = TorrentSession.create_session()\n"
      ],
      "metadata": {
        "id": "vxmYsjhNiqPg"
      },
      "execution_count": null,
      "outputs": []
    },
    {
      "cell_type": "code",
      "source": [
        "td = Download(ts)"
      ],
      "metadata": {
        "id": "4hbtpUneX1Vg"
      },
      "execution_count": null,
      "outputs": []
    },
    {
      "cell_type": "code",
      "source": [
        "td.add(link).start()"
      ],
      "metadata": {
        "id": "MkepPXld1MyU"
      },
      "execution_count": null,
      "outputs": []
    }
  ]
}